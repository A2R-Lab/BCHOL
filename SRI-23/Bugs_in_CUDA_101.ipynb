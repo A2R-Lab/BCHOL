{
  "cells": [
    {
      "cell_type": "markdown",
      "metadata": {
        "colab_type": "text",
        "id": "view-in-github"
      },
      "source": [
        "<a href=\"https://colab.research.google.com/github/A2R-Lab/rsLQR-Spring23/blob/main/Bugs_in_CUDA_101.ipynb\" target=\"_parent\"><img src=\"https://colab.research.google.com/assets/colab-badge.svg\" alt=\"Open In Colab\"/></a>"
      ]
    },
    {
      "cell_type": "code",
      "execution_count": null,
      "metadata": {
        "id": "S3XRf5Ntss-P"
      },
      "outputs": [],
      "source": []
    },
    {
      "cell_type": "markdown",
      "metadata": {
        "id": "7CFIcd6jsvRv"
      },
      "source": [
        "1. Don't forget to make sure your collab notebook runs on GPU ! Go to settings and select GPU in hardware accelerator.\n",
        "2. When you move any object from RAM to shared don't forget to move it back to RAM after calling the device function.\n",
        "3. You can use the following skeleton for CUDA implementations"
      ]
    },
    {
      "cell_type": "code",
      "execution_count": null,
      "metadata": {},
      "outputs": [],
      "source": [
        "  if(!DEBUG){\n",
        "    if(thread_id==0 && block_id ==0) {\n",
        "\n",
        "      printf(\"PRINTING ALL DATA AFTER INIT\\n\");\n",
        "      for(unsigned i = 0; i < nhorizon; i++) {\n",
        "        printf(\"\\nQ%d: \\n\", i);\n",
        "        printMatrix(s_Q_R+(i*cost_step),nstates,nstates);\n",
        "\n",
        "        printf(\"\\nR%d: \\n\", i);\n",
        "        printMatrix(s_Q_R+(i*cost_step+states_sq),ninputs,ninputs);\n",
        "\n",
        "        printf(\"\\nq%d: \\n\", i);\n",
        "        printMatrix(s_q_r+(i*(ninputs+nstates)),1,nstates);\n",
        "\n",
        "        printf(\"\\nr%d: \\n\", i);\n",
        "        printMatrix(s_q_r+(i*(ninputs+nstates)+nstates),1,ninputs);\n",
        "\n",
        "        printf(\"\\nA%d: \\n\", i);\n",
        "        printMatrix(s_A_B+(i*dyn_step),nstates,nstates);\n",
        "\n",
        "        printf(\"\\nB%d: \\n\", i);\n",
        "        printMatrix(s_A_B+(i*dyn_step+states_sq),nstates,ninputs);\n",
        "\n",
        "        printf(\"\\nd%d: \\n\", i);\n",
        "        printMatrix(s_d+i*nstates,1,nstates);        \n",
        "      } \n",
        "\n",
        "      for(uint32_t ind = 0; ind < nhorizon * depth ;  ind++) {\n",
        "          if(ind%nhorizon==0){ \n",
        "            printf(\"\\nLEVEL %d\\n\", ind/nhorizon);\n",
        "          } \n",
        "            printf(\"\\nF_lambda[%d]\\n\", ind);\n",
        "            printMatrix(s_F_lambda+(ind*states_sq),nstates,nstates);\n",
        "\n",
        "            printf(\"\\nF_state%d: \\n\", ind);\n",
        "            printMatrix(s_F_state+(ind*states_sq),nstates,nstates);\n",
        "\n",
        "            printf(\"\\nF_input%d: \\n\", ind);\n",
        "            printMatrix(s_F_input+ind*inp_states, nstates,ninputs);\n",
        "\n",
        "        }\n",
        "    }    \n",
        "  }"
      ]
    },
    {
      "cell_type": "code",
      "execution_count": null,
      "metadata": {
        "id": "fEKm3ZKktLVA"
      },
      "outputs": [],
      "source": [
        "%%cuda -n run.cu\n",
        "\n",
        "#include <stdio.h>\n",
        "#include <iostream>\n",
        "#include <cmath>\n",
        "\n",
        "//DEVICE FUNCTIONS\n",
        "\n",
        "template <typename T> \n",
        "__device__ \n",
        "void funct_cu(T *s_A) {\n",
        "    //do something\n",
        "    __syncthreads();\n",
        "}\n",
        "\n",
        "\n",
        "//GLOBAL/Kernel function\n",
        "\n",
        "template <typename T>\n",
        "__global__ \n",
        "void funct_Kernel(T *d_A) {\n",
        "    \n",
        "    //declare shared memory\n",
        "    __shared__ T s_A[9];\n",
        "\n",
        "    // move RAM memory to shared\n",
        "    for(unsigned i = threadIdx.x; i < n*n; i += blockDim.x){s_A[i] = d_A[i];}\n",
        "\n",
        "    // call device function\n",
        "    funct_cu<T>(s_A);\n",
        "\n",
        "    // move shared to RAM\n",
        "    for(unsigned i = threadIdx.x; i < n*n; i += blockDim.x){d_A[i] = s_A[i];}\n",
        "}\n",
        "\n",
        "\n",
        "//main/host function\n",
        "\n",
        "__host__\n",
        "int main() {\n",
        "    // Input matrix on the host\n",
        "    int N=3;\n",
        "    float A[N*N] = {6,15,55,15,55,225,55,225,979};\n",
        "\n",
        "\n",
        "    // Allocate memory on the GPU for the input and output matrices\n",
        "    float* d_A; cudaMalloc((void**)&d_A, N * N * sizeof(float));\n",
        "\n",
        "    // Copy the input matrix from the host to the GPU memory\n",
        "    cudaMemcpy(d_A, A, N * N * sizeof(float), cudaMemcpyHostToDevice);\n",
        "\n",
        "    //Launch the CUDA kernel with appropriate block and grid dimensions\n",
        "    int blockSize = 256;\n",
        "    int gridSize = 1;\n",
        "    funct_Kernel<float><<<gridSize, blockSize>>>(d_A);\n",
        "    cudaDeviceSynchronize();\n",
        "\n",
        "\n",
        "    // Copy the result back from the GPU memory to the host\n",
        "    cudaMemcpy(A, d_A, N * N * sizeof(float), cudaMemcpyDeviceToHost);\n",
        "    \n",
        "    // Free the allocated GPU memory\n",
        "    cudaFree(d_A);\n",
        "\n",
        "    return 0;\n",
        "}"
      ]
    }
  ],
  "metadata": {
    "colab": {
      "authorship_tag": "ABX9TyPvLfjbWNLEMucPkHT+mu8n",
      "include_colab_link": true,
      "provenance": []
    },
    "kernelspec": {
      "display_name": "Python 3",
      "name": "python3"
    },
    "language_info": {
      "name": "python"
    }
  },
  "nbformat": 4,
  "nbformat_minor": 0
}
